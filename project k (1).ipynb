{
 "cells": [
  {
   "cell_type": "code",
   "execution_count": 1,
   "metadata": {},
   "outputs": [],
   "source": [
    "# import necessary libraries and specify that graphs should be plotted inline\n",
    "%matplotlib inline\n",
    "import numpy as np\n",
    "import pandas as pd\n",
    "import sklearn\n",
    "import matplotlib.pyplot as plt\n",
    "import seaborn as sns\n",
    "import warnings\n",
    "warnings.filterwarnings(\"ignore\", category=FutureWarning)"
   ]
  },
  {
   "cell_type": "code",
   "execution_count": 2,
   "metadata": {},
   "outputs": [],
   "source": [
    "# import the dataset into a Pandas dataframe\n",
    "housing_dataset = pd.read_csv(\"Housing.csv\")# import necessary libraries and specify that graphs should be plotted inline\n",
    "%matplotlib inline\n",
    "import numpy as np\n",
    "import pandas as pd\n",
    "import sklearn\n",
    "import matplotlib.pyplot as plt\n",
    "import seaborn as sns\n",
    "import warnings\n",
    "warnings.filterwarnings(\"ignore\", category=FutureWarning)"
   ]
  },
  {
   "cell_type": "code",
   "execution_count": 3,
   "metadata": {},
   "outputs": [
    {
     "data": {
      "text/html": [
       "<div>\n",
       "<style scoped>\n",
       "    .dataframe tbody tr th:only-of-type {\n",
       "        vertical-align: middle;\n",
       "    }\n",
       "\n",
       "    .dataframe tbody tr th {\n",
       "        vertical-align: top;\n",
       "    }\n",
       "\n",
       "    .dataframe thead th {\n",
       "        text-align: right;\n",
       "    }\n",
       "</style>\n",
       "<table border=\"1\" class=\"dataframe\">\n",
       "  <thead>\n",
       "    <tr style=\"text-align: right;\">\n",
       "      <th></th>\n",
       "      <th>price</th>\n",
       "      <th>area</th>\n",
       "      <th>bedrooms</th>\n",
       "      <th>bathrooms</th>\n",
       "      <th>stories</th>\n",
       "      <th>mainroad</th>\n",
       "      <th>guestroom</th>\n",
       "      <th>basement</th>\n",
       "      <th>hotwaterheating</th>\n",
       "      <th>airconditioning</th>\n",
       "      <th>parking</th>\n",
       "      <th>prefarea</th>\n",
       "      <th>furnishingstatus</th>\n",
       "    </tr>\n",
       "  </thead>\n",
       "  <tbody>\n",
       "    <tr>\n",
       "      <td>0</td>\n",
       "      <td>13300000</td>\n",
       "      <td>7420</td>\n",
       "      <td>4</td>\n",
       "      <td>2</td>\n",
       "      <td>3</td>\n",
       "      <td>yes</td>\n",
       "      <td>no</td>\n",
       "      <td>no</td>\n",
       "      <td>no</td>\n",
       "      <td>yes</td>\n",
       "      <td>2</td>\n",
       "      <td>yes</td>\n",
       "      <td>furnished</td>\n",
       "    </tr>\n",
       "    <tr>\n",
       "      <td>1</td>\n",
       "      <td>12250000</td>\n",
       "      <td>8960</td>\n",
       "      <td>4</td>\n",
       "      <td>4</td>\n",
       "      <td>4</td>\n",
       "      <td>yes</td>\n",
       "      <td>no</td>\n",
       "      <td>no</td>\n",
       "      <td>no</td>\n",
       "      <td>yes</td>\n",
       "      <td>3</td>\n",
       "      <td>no</td>\n",
       "      <td>furnished</td>\n",
       "    </tr>\n",
       "    <tr>\n",
       "      <td>2</td>\n",
       "      <td>12250000</td>\n",
       "      <td>9960</td>\n",
       "      <td>3</td>\n",
       "      <td>2</td>\n",
       "      <td>2</td>\n",
       "      <td>yes</td>\n",
       "      <td>no</td>\n",
       "      <td>yes</td>\n",
       "      <td>no</td>\n",
       "      <td>no</td>\n",
       "      <td>2</td>\n",
       "      <td>yes</td>\n",
       "      <td>semi-furnished</td>\n",
       "    </tr>\n",
       "    <tr>\n",
       "      <td>3</td>\n",
       "      <td>12215000</td>\n",
       "      <td>7500</td>\n",
       "      <td>4</td>\n",
       "      <td>2</td>\n",
       "      <td>2</td>\n",
       "      <td>yes</td>\n",
       "      <td>no</td>\n",
       "      <td>yes</td>\n",
       "      <td>no</td>\n",
       "      <td>yes</td>\n",
       "      <td>3</td>\n",
       "      <td>yes</td>\n",
       "      <td>furnished</td>\n",
       "    </tr>\n",
       "    <tr>\n",
       "      <td>4</td>\n",
       "      <td>11410000</td>\n",
       "      <td>7420</td>\n",
       "      <td>4</td>\n",
       "      <td>1</td>\n",
       "      <td>2</td>\n",
       "      <td>yes</td>\n",
       "      <td>yes</td>\n",
       "      <td>yes</td>\n",
       "      <td>no</td>\n",
       "      <td>yes</td>\n",
       "      <td>2</td>\n",
       "      <td>no</td>\n",
       "      <td>furnished</td>\n",
       "    </tr>\n",
       "  </tbody>\n",
       "</table>\n",
       "</div>"
      ],
      "text/plain": [
       "      price  area  bedrooms  bathrooms  stories mainroad guestroom basement  \\\n",
       "0  13300000  7420         4          2        3      yes        no       no   \n",
       "1  12250000  8960         4          4        4      yes        no       no   \n",
       "2  12250000  9960         3          2        2      yes        no      yes   \n",
       "3  12215000  7500         4          2        2      yes        no      yes   \n",
       "4  11410000  7420         4          1        2      yes       yes      yes   \n",
       "\n",
       "  hotwaterheating airconditioning  parking prefarea furnishingstatus  \n",
       "0              no             yes        2      yes        furnished  \n",
       "1              no             yes        3       no        furnished  \n",
       "2              no              no        2      yes   semi-furnished  \n",
       "3              no             yes        3      yes        furnished  \n",
       "4              no             yes        2       no        furnished  "
      ]
     },
     "execution_count": 3,
     "metadata": {},
     "output_type": "execute_result"
    }
   ],
   "source": [
    "housing_dataset.head()\n"
   ]
  },
  {
   "cell_type": "code",
   "execution_count": 4,
   "metadata": {},
   "outputs": [
    {
     "data": {
      "text/plain": [
       "price               0\n",
       "area                0\n",
       "bedrooms            0\n",
       "bathrooms           0\n",
       "stories             0\n",
       "mainroad            0\n",
       "guestroom           0\n",
       "basement            0\n",
       "hotwaterheating     0\n",
       "airconditioning     0\n",
       "parking             0\n",
       "prefarea            0\n",
       "furnishingstatus    0\n",
       "dtype: int64"
      ]
     },
     "execution_count": 4,
     "metadata": {},
     "output_type": "execute_result"
    }
   ],
   "source": [
    "housing_dataset.isnull().sum()\n"
   ]
  },
  {
   "cell_type": "code",
   "execution_count": 5,
   "metadata": {},
   "outputs": [
    {
     "data": {
      "text/html": [
       "<div>\n",
       "<style scoped>\n",
       "    .dataframe tbody tr th:only-of-type {\n",
       "        vertical-align: middle;\n",
       "    }\n",
       "\n",
       "    .dataframe tbody tr th {\n",
       "        vertical-align: top;\n",
       "    }\n",
       "\n",
       "    .dataframe thead th {\n",
       "        text-align: right;\n",
       "    }\n",
       "</style>\n",
       "<table border=\"1\" class=\"dataframe\">\n",
       "  <thead>\n",
       "    <tr style=\"text-align: right;\">\n",
       "      <th></th>\n",
       "      <th>price</th>\n",
       "      <th>area</th>\n",
       "      <th>bedrooms</th>\n",
       "      <th>bathrooms</th>\n",
       "      <th>stories</th>\n",
       "      <th>parking</th>\n",
       "    </tr>\n",
       "  </thead>\n",
       "  <tbody>\n",
       "    <tr>\n",
       "      <td>count</td>\n",
       "      <td>5.450000e+02</td>\n",
       "      <td>545.000000</td>\n",
       "      <td>545.000000</td>\n",
       "      <td>545.000000</td>\n",
       "      <td>545.000000</td>\n",
       "      <td>545.000000</td>\n",
       "    </tr>\n",
       "    <tr>\n",
       "      <td>mean</td>\n",
       "      <td>4.766729e+06</td>\n",
       "      <td>5150.541284</td>\n",
       "      <td>2.965138</td>\n",
       "      <td>1.286239</td>\n",
       "      <td>1.805505</td>\n",
       "      <td>0.693578</td>\n",
       "    </tr>\n",
       "    <tr>\n",
       "      <td>std</td>\n",
       "      <td>1.870440e+06</td>\n",
       "      <td>2170.141023</td>\n",
       "      <td>0.738064</td>\n",
       "      <td>0.502470</td>\n",
       "      <td>0.867492</td>\n",
       "      <td>0.861586</td>\n",
       "    </tr>\n",
       "    <tr>\n",
       "      <td>min</td>\n",
       "      <td>1.750000e+06</td>\n",
       "      <td>1650.000000</td>\n",
       "      <td>1.000000</td>\n",
       "      <td>1.000000</td>\n",
       "      <td>1.000000</td>\n",
       "      <td>0.000000</td>\n",
       "    </tr>\n",
       "    <tr>\n",
       "      <td>25%</td>\n",
       "      <td>3.430000e+06</td>\n",
       "      <td>3600.000000</td>\n",
       "      <td>2.000000</td>\n",
       "      <td>1.000000</td>\n",
       "      <td>1.000000</td>\n",
       "      <td>0.000000</td>\n",
       "    </tr>\n",
       "    <tr>\n",
       "      <td>50%</td>\n",
       "      <td>4.340000e+06</td>\n",
       "      <td>4600.000000</td>\n",
       "      <td>3.000000</td>\n",
       "      <td>1.000000</td>\n",
       "      <td>2.000000</td>\n",
       "      <td>0.000000</td>\n",
       "    </tr>\n",
       "    <tr>\n",
       "      <td>75%</td>\n",
       "      <td>5.740000e+06</td>\n",
       "      <td>6360.000000</td>\n",
       "      <td>3.000000</td>\n",
       "      <td>2.000000</td>\n",
       "      <td>2.000000</td>\n",
       "      <td>1.000000</td>\n",
       "    </tr>\n",
       "    <tr>\n",
       "      <td>max</td>\n",
       "      <td>1.330000e+07</td>\n",
       "      <td>16200.000000</td>\n",
       "      <td>6.000000</td>\n",
       "      <td>4.000000</td>\n",
       "      <td>4.000000</td>\n",
       "      <td>3.000000</td>\n",
       "    </tr>\n",
       "  </tbody>\n",
       "</table>\n",
       "</div>"
      ],
      "text/plain": [
       "              price          area    bedrooms   bathrooms     stories  \\\n",
       "count  5.450000e+02    545.000000  545.000000  545.000000  545.000000   \n",
       "mean   4.766729e+06   5150.541284    2.965138    1.286239    1.805505   \n",
       "std    1.870440e+06   2170.141023    0.738064    0.502470    0.867492   \n",
       "min    1.750000e+06   1650.000000    1.000000    1.000000    1.000000   \n",
       "25%    3.430000e+06   3600.000000    2.000000    1.000000    1.000000   \n",
       "50%    4.340000e+06   4600.000000    3.000000    1.000000    2.000000   \n",
       "75%    5.740000e+06   6360.000000    3.000000    2.000000    2.000000   \n",
       "max    1.330000e+07  16200.000000    6.000000    4.000000    4.000000   \n",
       "\n",
       "          parking  \n",
       "count  545.000000  \n",
       "mean     0.693578  \n",
       "std      0.861586  \n",
       "min      0.000000  \n",
       "25%      0.000000  \n",
       "50%      0.000000  \n",
       "75%      1.000000  \n",
       "max      3.000000  "
      ]
     },
     "execution_count": 5,
     "metadata": {},
     "output_type": "execute_result"
    }
   ],
   "source": [
    "housing_dataset.describe()\n"
   ]
  },
  {
   "cell_type": "code",
   "execution_count": 23,
   "metadata": {},
   "outputs": [
    {
     "data": {
      "image/png": "[encoded data removed]",
      "text/plain": [
       "<Figure size 432x288 with 1 Axes>"
      ]
     },
     "metadata": {
      "needs_background": "light"
     },
     "output_type": "display_data"
    }
   ],
   "source": [
    "sns.boxplot(x='bedrooms', y='price', data=housing_dataset)\n",
    "plt.title('Price by Number of Bedrooms')\n",
    "plt.xlabel('Number of Bedrooms')\n",
    "plt.ylabel('Price')\n",
    "plt.show()\n"
   ]
  },
  {
   "cell_type": "markdown",
   "metadata": {},
   "source": [
    "Correlation Analysis: Check how features correlate with the price.\n",
    "\n"
   ]
  },
  {
   "cell_type": "code",
   "execution_count": 8,
   "metadata": {},
   "outputs": [
    {
     "data": {
      "image/png": "[encoded data removed]",
      "text/plain": [
       "<Figure size 432x288 with 2 Axes>"
      ]
     },
     "metadata": {
      "needs_background": "light"
     },
     "output_type": "display_data"
    }
   ],
   "source": [
    "correlation_matrix = housing_dataset.corr()\n",
    "sns.heatmap(correlation_matrix, annot=True, cmap='coolwarm')\n",
    "plt.title('Correlation Heatmap')\n",
    "plt.show()\n"
   ]
  },
  {
   "cell_type": "markdown",
   "metadata": {},
   "source": [
    "Feature Engineering Code"
   ]
  },
  {
   "cell_type": "code",
   "execution_count": null,
   "metadata": {},
   "outputs": [],
   "source": [
    "# Create a total_rooms feature\n",
    "housing_dataset['total_rooms'] = housing_dataset['bedrooms'] + housing_dataset['bathrooms']\n",
    "\n",
    "# Create a price per square foot feature\n",
    "housing_dataset['price_per_sqft'] = housing_dataset['price'] / housing_dataset['area']\n",
    "\n",
    "# Display the updated DataFrame with new features\n",
    "print(housing_dataset[['price', 'area', 'bedrooms', 'bathrooms', 'total_rooms', 'price_per_sqft']].head())\n"
   ]
  },
  {
   "cell_type": "markdown",
   "metadata": {},
   "source": [
    "Check for Missing Values"
   ]
  },
  {
   "cell_type": "code",
   "execution_count": 10,
   "metadata": {},
   "outputs": [
    {
     "name": "stdout",
     "output_type": "stream",
     "text": [
      "Missing Values:\n",
      " Series([], dtype: int64)\n",
      "Missing Values After Imputation:\n",
      " Series([], dtype: int64)\n",
      "Missing Values After Dropping Rows:\n",
      " Series([], dtype: int64)\n"
     ]
    }
   ],
   "source": [
    "# Check for missing values in the dataset\n",
    "missing_values = housing_dataset.isnull().sum()\n",
    "print(\"Missing Values:\\n\", missing_values[missing_values > 0])\n",
    "# Impute missing values with the median for numerical columns\n",
    "housing_dataset.fillna(housing_dataset.median(), inplace=True)\n",
    "\n",
    "# Check again for missing values to confirm they have been handled\n",
    "missing_values_after = housing_dataset.isnull().sum()\n",
    "print(\"Missing Values After Imputation:\\n\", missing_values_after[missing_values_after > 0])\n",
    "# Drop rows with any missing values\n",
    "housing_dataset.dropna(inplace=True)\n",
    "\n",
    "# Check again for missing values to confirm they have been handled\n",
    "missing_values_after_drop = housing_dataset.isnull().sum()\n",
    "print(\"Missing Values After Dropping Rows:\\n\", missing_values_after_drop[missing_values_after_drop > 0])\n"
   ]
  },
  {
   "cell_type": "markdown",
   "metadata": {},
   "source": []
  },
  {
   "cell_type": "code",
   "execution_count": 11,
   "metadata": {},
   "outputs": [
    {
     "name": "stdout",
     "output_type": "stream",
     "text": [
      "      price      area  bedrooms  bathrooms   stories mainroad guestroom  \\\n",
      "0  13300000  1.046726  1.403419   1.421812  1.378217      yes        no   \n",
      "1  12250000  1.757010  1.403419   5.405809  2.532024      yes        no   \n",
      "2  12250000  2.218232  0.047278   1.421812  0.224410      yes        no   \n",
      "3  12215000  1.083624  1.403419   1.421812  0.224410      yes        no   \n",
      "4  11410000  1.046726  1.403419  -0.570187  0.224410      yes       yes   \n",
      "\n",
      "  basement hotwaterheating airconditioning   parking prefarea  \\\n",
      "0       no              no             yes  1.517692      yes   \n",
      "1       no              no             yes  2.679409       no   \n",
      "2      yes              no              no  1.517692      yes   \n",
      "3      yes              no             yes  2.679409      yes   \n",
      "4      yes              no             yes  1.517692       no   \n",
      "\n",
      "  furnishingstatus  total_rooms  price_per_sqft  \n",
      "0        furnished     1.688416        2.308152  \n",
      "1        furnished     3.619554        1.079838  \n",
      "2   semi-furnished     0.722848        0.683361  \n",
      "3        furnished     1.688416        1.835081  \n",
      "4        furnished     0.722848        1.572441  \n"
     ]
    }
   ],
   "source": [
    "# Import StandardScaler\n",
    "from sklearn.preprocessing import StandardScaler\n",
    "\n",
    "# Select numerical features to standardize\n",
    "numerical_features = ['area', 'bedrooms', 'bathrooms', 'stories', 'parking', 'total_rooms', 'price_per_sqft']\n",
    "\n",
    "# Initialize the StandardScaler\n",
    "scaler = StandardScaler()\n",
    "\n",
    "# Fit and transform the selected features\n",
    "housing_dataset[numerical_features] = scaler.fit_transform(housing_dataset[numerical_features])\n",
    "\n",
    "# Display the updated DataFrame\n",
    "print(housing_dataset.head())\n"
   ]
  },
  {
   "cell_type": "markdown",
   "metadata": {},
   "source": [
    "Splitting the Dataset"
   ]
  },
  {
   "cell_type": "code",
   "execution_count": 12,
   "metadata": {},
   "outputs": [
    {
     "name": "stdout",
     "output_type": "stream",
     "text": [
      "Training set shape: (436, 14)\n",
      "Testing set shape: (109, 14)\n"
     ]
    }
   ],
   "source": [
    "# Import train_test_split\n",
    "from sklearn.model_selection import train_test_split\n",
    "\n",
    "# Define the feature set (X) and target variable (y)\n",
    "X = housing_dataset.drop('price', axis=1)  # Features (excluding the target)\n",
    "y = housing_dataset['price']                # Target variable (price)\n",
    "\n",
    "# Split the dataset into training and testing sets (80% train, 20% test)\n",
    "X_train, X_test, y_train, y_test = train_test_split(X, y, test_size=0.2, random_state=42)\n",
    "\n",
    "# Display the shapes of the resulting datasets\n",
    "print(\"Training set shape:\", X_train.shape)\n",
    "print(\"Testing set shape:\", X_test.shape)\n"
   ]
  },
  {
   "cell_type": "markdown",
   "metadata": {},
   "source": [
    "Model Selection and Training"
   ]
  },
  {
   "cell_type": "code",
   "execution_count": 16,
   "metadata": {},
   "outputs": [
    {
     "name": "stdout",
     "output_type": "stream",
     "text": [
      "      price      area  bedrooms  bathrooms  total_rooms  price_per_sqft  \\\n",
      "0  13300000  1.046726  1.403419   1.421812     1.688416        2.308152   \n",
      "1  12250000  1.757010  1.403419   5.405809     3.619554        1.079838   \n",
      "2  12250000  2.218232  0.047278   1.421812     0.722848        0.683361   \n",
      "3  12215000  1.083624  1.403419   1.421812     1.688416        1.835081   \n",
      "4  11410000  1.046726  1.403419  -0.570187     0.722848        1.572441   \n",
      "\n",
      "   parking_0.35597562605793237  parking_1.5176924895404067  \\\n",
      "0                            0                           1   \n",
      "1                            0                           0   \n",
      "2                            0                           1   \n",
      "3                            0                           0   \n",
      "4                            0                           1   \n",
      "\n",
      "   parking_2.679409353022881  stories_0.22441012833299692  \\\n",
      "0                          0                            0   \n",
      "1                          1                            0   \n",
      "2                          0                            1   \n",
      "3                          1                            1   \n",
      "4                          0                            1   \n",
      "\n",
      "   stories_1.3782169202337835  stories_2.53202371213457  mainroad_yes  \\\n",
      "0                           1                         0             1   \n",
      "1                           0                         1             1   \n",
      "2                           0                         0             1   \n",
      "3                           0                         0             1   \n",
      "4                           0                         0             1   \n",
      "\n",
      "   guestroom_yes  basement_yes  hotwaterheating_yes  airconditioning_yes  \\\n",
      "0              0             0                    0                    1   \n",
      "1              0             0                    0                    1   \n",
      "2              0             1                    0                    0   \n",
      "3              0             1                    0                    1   \n",
      "4              1             1                    0                    1   \n",
      "\n",
      "   prefarea_yes  furnishingstatus_semi-furnished  furnishingstatus_unfurnished  \n",
      "0             1                                0                             0  \n",
      "1             0                                0                             0  \n",
      "2             1                                1                             0  \n",
      "3             1                                0                             0  \n",
      "4             0                                0                             0  \n",
      "Model coefficients: [ 1.24955168e+06 -1.39552171e+04  1.94279667e+05  8.42358632e+04\n",
      "  1.14215470e+06  1.65370184e+05  1.56611491e+05  5.01065019e+05\n",
      " -4.32299891e+04 -2.40762899e+04  6.80284802e+05  3.04620152e+05\n",
      "  2.55435030e+05  3.12513097e+04  2.35990970e+05  4.64370272e+05\n",
      "  1.62460871e+05  1.24248877e+03 -2.92541965e+03]\n",
      "Model intercept: 4123265.061350203\n"
     ]
    }
   ],
   "source": [
    "# List of categorical features to encode\n",
    "categorical_features = [\n",
    "    'mainroad', \n",
    "    'guestroom', \n",
    "    'basement', \n",
    "    'hotwaterheating', \n",
    "    'airconditioning', \n",
    "    'prefarea', \n",
    "    'furnishingstatus'\n",
    "]\n",
    "\n",
    "# One-hot encode categorical features\n",
    "housing_dataset = pd.get_dummies(housing_dataset, columns=categorical_features, drop_first=True)\n",
    "\n",
    "# Check the updated DataFrame to confirm encoding\n",
    "print(housing_dataset.head())\n",
    "\n",
    "# Now, split the dataset again\n",
    "X = housing_dataset.drop('price', axis=1)  # Features\n",
    "y = housing_dataset['price']                # Target variable\n",
    "\n",
    "# Split the dataset into training and testing sets\n",
    "from sklearn.model_selection import train_test_split\n",
    "X_train, X_test, y_train, y_test = train_test_split(X, y, test_size=0.2, random_state=42)\n",
    "\n",
    "# Train the model on the training data\n",
    "from sklearn.linear_model import LinearRegression\n",
    "model = LinearRegression()\n",
    "model.fit(X_train, y_train)\n",
    "\n",
    "# Display the model coefficients\n",
    "print(\"Model coefficients:\", model.coef_)\n",
    "print(\"Model intercept:\", model.intercept_)\n"
   ]
  },
  {
   "cell_type": "markdown",
   "metadata": {},
   "source": [
    "Initialize Models and Evaluate Them"
   ]
  },
  {
   "cell_type": "code",
   "execution_count": 17,
   "metadata": {},
   "outputs": [
    {
     "name": "stdout",
     "output_type": "stream",
     "text": [
      "                             MAE           MSE        R²\n",
      "Linear Regression  515486.980078  6.295328e+11  0.875453\n",
      "Decision Tree      384748.256881  4.153628e+11  0.917824\n",
      "Random Forest      289505.544037  3.442401e+11  0.931895\n",
      "Gradient Boosting  268800.907748  1.882740e+11  0.962752\n"
     ]
    }
   ],
   "source": [
    "from sklearn.linear_model import LinearRegression\n",
    "from sklearn.tree import DecisionTreeRegressor\n",
    "from sklearn.ensemble import RandomForestRegressor, GradientBoostingRegressor\n",
    "from sklearn.metrics import mean_absolute_error, mean_squared_error, r2_score\n",
    "def train_and_evaluate_model(model, X_train, y_train, X_test, y_test):\n",
    "    # Train the model\n",
    "    model.fit(X_train, y_train)\n",
    "    \n",
    "    # Make predictions\n",
    "    y_pred = model.predict(X_test)\n",
    "    \n",
    "    # Calculate evaluation metrics\n",
    "    mae = mean_absolute_error(y_test, y_pred)\n",
    "    mse = mean_squared_error(y_test, y_pred)\n",
    "    r2 = r2_score(y_test, y_pred)\n",
    "    \n",
    "    return mae, mse, r2\n",
    "# Initialize models\n",
    "linear_model = LinearRegression()\n",
    "decision_tree_model = DecisionTreeRegressor(random_state=42)\n",
    "random_forest_model = RandomForestRegressor(random_state=42)\n",
    "gbm_model = GradientBoostingRegressor(random_state=42)\n",
    "\n",
    "# Evaluate each model\n",
    "models = {\n",
    "    \"Linear Regression\": linear_model,\n",
    "    \"Decision Tree\": decision_tree_model,\n",
    "    \"Random Forest\": random_forest_model,\n",
    "    \"Gradient Boosting\": gbm_model\n",
    "}\n",
    "\n",
    "# Store results\n",
    "results = {}\n",
    "\n",
    "for model_name, model in models.items():\n",
    "    mae, mse, r2 = train_and_evaluate_model(model, X_train, y_train, X_test, y_test)\n",
    "    results[model_name] = {\n",
    "        \"MAE\": mae,\n",
    "        \"MSE\": mse,\n",
    "        \"R²\": r2\n",
    "    }\n",
    "\n",
    "# Display the results\n",
    "results_df = pd.DataFrame(results).T\n",
    "print(results_df)\n",
    "\n"
   ]
  },
  {
   "cell_type": "markdown",
   "metadata": {},
   "source": [
    "Mean Absolute Error (MAE): The Gradient Boosting model has the lowest MAE, which means it has the least average error in its predictions compared to the others.\n",
    "Mean Squared Error (MSE): Again, the Gradient Boosting model shows the lowest MSE, indicating it performs better than the others in terms of squared errors.\n",
    "R² Score: The Gradient Boosting model has the highest R² value (0.9628), suggesting it explains about 96.28% of the variance in the target variable, which is excellent."
   ]
  },
  {
   "cell_type": "code",
   "execution_count": null,
   "metadata": {},
   "outputs": [],
   "source": [
    "# Voting Regressor\n",
    "Model Initialization: The individual models are initialized as before.\n",
    "Voting Regressor: The VotingRegressor combines the predictions of the specified models.\n",
    "Training and Evaluation: The same train_and_evaluate_model function is used to train and evaluate the voting regressor."
   ]
  },
  {
   "cell_type": "code",
   "execution_count": 18,
   "metadata": {},
   "outputs": [
    {
     "name": "stdout",
     "output_type": "stream",
     "text": [
      "                             MAE           MSE        R²\n",
      "Linear Regression  515486.980078  6.295328e+11  0.875453\n",
      "Decision Tree      384748.256881  4.153628e+11  0.917824\n",
      "Random Forest      289505.544037  3.442401e+11  0.931895\n",
      "Gradient Boosting  268800.907748  1.882740e+11  0.962752\n",
      "Voting Regressor   297390.570777  2.872229e+11  0.943176\n"
     ]
    }
   ],
   "source": [
    "from sklearn.ensemble import VotingRegressor\n",
    "# Initialize the individual models\n",
    "linear_model = LinearRegression()\n",
    "decision_tree_model = DecisionTreeRegressor(random_state=42)\n",
    "random_forest_model = RandomForestRegressor(random_state=42)\n",
    "gbm_model = GradientBoostingRegressor(random_state=42)\n",
    "\n",
    "# Create a Voting Regressor\n",
    "voting_model = VotingRegressor(\n",
    "    estimators=[\n",
    "        ('linear', linear_model),\n",
    "        ('decision_tree', decision_tree_model),\n",
    "        ('random_forest', random_forest_model),\n",
    "        ('gbm', gbm_model)\n",
    "    ]\n",
    ")\n",
    "\n",
    "# Train and evaluate the Voting Regressor\n",
    "mae_voting, mse_voting, r2_voting = train_and_evaluate_model(voting_model, X_train, y_train, X_test, y_test)\n",
    "\n",
    "# Add the results to the results dictionary\n",
    "results['Voting Regressor'] = {\n",
    "    \"MAE\": mae_voting,\n",
    "    \"MSE\": mse_voting,\n",
    "    \"R²\": r2_voting\n",
    "}\n",
    "\n",
    "# Display the updated results\n",
    "results_df = pd.DataFrame(results).T\n",
    "print(results_df)\n"
   ]
  },
  {
   "cell_type": "markdown",
   "metadata": {},
   "source": [
    "#Conclusion\n",
    "Accuracy: The Gradient Boosting model has a lower MAE and MSE, indicating more precise predictions and fewer large errors. Its higher R² score (0.9628) means it explains more variance in the target variable compared to the Voting Regressor (R² = 0.9432).\n",
    "Therefore, the Gradient Boosting model is the better choice for accuracy in this case."
   ]
  },
  {
   "cell_type": "markdown",
   "metadata": {},
   "source": [
    "Model Evaluation"
   ]
  },
  {
   "cell_type": "code",
   "execution_count": 20,
   "metadata": {},
   "outputs": [
    {
     "name": "stdout",
     "output_type": "stream",
     "text": [
      "MAE: 268800.90774840215\n",
      "MSE: 188273953815.02893\n",
      "R²: 0.9627517385972383\n"
     ]
    }
   ],
   "source": [
    "from sklearn.metrics import mean_absolute_error, mean_squared_error, r2_score\n",
    "y_pred = model.predict(X_test)\n",
    "print('MAE:', mean_absolute_error(y_test, y_pred))\n",
    "print('MSE:', mean_squared_error(y_test, y_pred))\n",
    "print('R²:', r2_score(y_test, y_pred))\n"
   ]
  },
  {
   "cell_type": "markdown",
   "metadata": {},
   "source": [
    "Visualization of Predictions"
   ]
  },
  {
   "cell_type": "code",
   "execution_count": 21,
   "metadata": {},
   "outputs": [
    {
     "data": {
      "image/png": "[encoded data removed]",
      "text/plain": [
       "<Figure size 432x288 with 1 Axes>"
      ]
     },
     "metadata": {
      "needs_background": "light"
     },
     "output_type": "display_data"
    }
   ],
   "source": [
    "plt.scatter(y_test, y_pred)\n",
    "plt.xlabel('Actual Prices')\n",
    "plt.ylabel('Predicted Prices')\n",
    "plt.title('Actual vs Predicted Prices')\n",
    "plt.show()\n"
   ]
  },
  {
   "cell_type": "markdown",
   "metadata": {},
   "source": [
    "conclusion"
   ]
  },
  {
   "cell_type": "code",
   "execution_count": 22,
   "metadata": {},
   "outputs": [
    {
     "name": "stdout",
     "output_type": "stream",
     "text": [
      "The best model is: Gradient Boosting\n"
     ]
    }
   ],
   "source": [
    "best_model = results_df['R²'].idxmax()\n",
    "print(f\"The best model is: {best_model}\")"
   ]
  },
  {
   "cell_type": "markdown",
   "metadata": {},
   "source": [
    "Conclusion \n",
    "Determine the Best Model: Identify which model has the best evaluation metrics based on your criteria (e.g., lowest MAE or highest R²).\n",
    "Hyperparameter Tuning: Optionally, refine the best model's performance by adjusting its hyperparameters to optimize its performance further.\n",
    "Feature Importance Analysis: Analyze which features contribute the most to the predictions, providing insights into the data.\n",
    "Deployment: If applicable, prepare the best-performing model for deployment in a production environment, where it can be used to make predictions on new data."
   ]
  }
 ],
 "metadata": {
  "kernelspec": {
   "display_name": "Python 3",
   "language": "python",
   "name": "python3"
  },
  "language_info": {
   "codemirror_mode": {
    "name": "ipython",
    "version": 3
   },
   "file_extension": ".py",
   "mimetype": "text/x-python",
   "name": "python",
   "nbconvert_exporter": "python",
   "pygments_lexer": "ipython3",
   "version": "3.7.4"
  }
 },
 "nbformat": 4,
 "nbformat_minor": 2
}
